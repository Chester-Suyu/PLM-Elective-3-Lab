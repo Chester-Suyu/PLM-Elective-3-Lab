{
  "nbformat": 4,
  "nbformat_minor": 0,
  "metadata": {
    "colab": {
      "provenance": [],
      "authorship_tag": "ABX9TyNH4+21XooQCG40iDrovQLD",
      "include_colab_link": true
    },
    "kernelspec": {
      "name": "python3",
      "display_name": "Python 3"
    },
    "language_info": {
      "name": "python"
    }
  },
  "cells": [
    {
      "cell_type": "markdown",
      "metadata": {
        "id": "view-in-github",
        "colab_type": "text"
      },
      "source": [
        "<a href=\"https://colab.research.google.com/github/Chester-Suyu/PLM-Elective-3-Lab/blob/main/Python_Fundamentals.ipynb\" target=\"_parent\"><img src=\"https://colab.research.google.com/assets/colab-badge.svg\" alt=\"Open In Colab\"/></a>"
      ]
    },
    {
      "cell_type": "markdown",
      "source": [
        "Python Indentation"
      ],
      "metadata": {
        "id": "kbVyuaaiopBd"
      }
    },
    {
      "cell_type": "code",
      "source": [
        "x = 5\n",
        "y = 2\n",
        "if x > y:\n",
        "  print(\"Five is greater than two\")"
      ],
      "metadata": {
        "colab": {
          "base_uri": "https://localhost:8080/"
        },
        "id": "psCIQt2io4cX",
        "outputId": "568ca294-36a2-44a3-9cd3-a3bc167abe3c"
      },
      "execution_count": 4,
      "outputs": [
        {
          "output_type": "stream",
          "name": "stdout",
          "text": [
            "Five is greater than two\n"
          ]
        }
      ]
    },
    {
      "cell_type": "markdown",
      "source": [
        "Python Comments"
      ],
      "metadata": {
        "id": "FzH4zms3p6N5"
      }
    },
    {
      "cell_type": "code",
      "source": [
        "print(\"Hello World\") #This is a python comment"
      ],
      "metadata": {
        "colab": {
          "base_uri": "https://localhost:8080/"
        },
        "id": "oOhbAZgUp77f",
        "outputId": "1e83c53d-ded4-451f-bf9d-edbe0bda726f"
      },
      "execution_count": 5,
      "outputs": [
        {
          "output_type": "stream",
          "name": "stdout",
          "text": [
            "Hello World\n"
          ]
        }
      ]
    },
    {
      "cell_type": "markdown",
      "source": [
        "Python Variable"
      ],
      "metadata": {
        "id": "oeHoJHRDqLFM"
      }
    },
    {
      "cell_type": "code",
      "source": [
        "z = 1\n",
        "z, s = 0, -1\n",
        "z, s, t = 8, 9, 10\n",
        "\n",
        "z\n",
        "s\n",
        "t"
      ],
      "metadata": {
        "id": "bQVZKiigqNFF"
      },
      "execution_count": null,
      "outputs": []
    },
    {
      "cell_type": "markdown",
      "source": [
        "Casting"
      ],
      "metadata": {
        "id": "tAtJ9CJvqnjJ"
      }
    },
    {
      "cell_type": "code",
      "source": [],
      "metadata": {
        "id": "-5cpOKtsqs3H"
      },
      "execution_count": null,
      "outputs": []
    },
    {
      "cell_type": "code",
      "execution_count": null,
      "metadata": {
        "colab": {
          "base_uri": "https://localhost:8080/"
        },
        "id": "UCC4xrLiHgZq",
        "outputId": "5e878496-da88-4d0f-be04-ce6f3b553085"
      },
      "outputs": [
        {
          "output_type": "stream",
          "name": "stdout",
          "text": [
            "Chester T. Suyu\n",
            "20 years old\n",
            "CPE 0332.1-1\n"
          ]
        }
      ],
      "source": [
        "#Create a Python program that displays your Fullname, Age, and Course and Section\n",
        "\n",
        "fullName = str(\"Chester T. Suyu\\n\")\n",
        "age = str(\"20 years old\\n\")\n",
        "courseSection = str(\"CPE 0332.1-1\")\n",
        "\n",
        "print(fullName + age + courseSection)"
      ]
    }
  ]
}