{
  "nbformat": 4,
  "nbformat_minor": 0,
  "metadata": {
    "colab": {
      "provenance": [],
      "authorship_tag": "ABX9TyPcmNUIohaa5ocagvhzLNtU",
      "include_colab_link": true
    },
    "kernelspec": {
      "name": "python3",
      "display_name": "Python 3"
    },
    "language_info": {
      "name": "python"
    }
  },
  "cells": [
    {
      "cell_type": "markdown",
      "metadata": {
        "id": "view-in-github",
        "colab_type": "text"
      },
      "source": [
        "<a href=\"https://colab.research.google.com/github/Chester-Suyu/PLM-Elective-3-Lab/blob/main/Python_Fundamentals.ipynb\" target=\"_parent\"><img src=\"https://colab.research.google.com/assets/colab-badge.svg\" alt=\"Open In Colab\"/></a>"
      ]
    },
    {
      "cell_type": "code",
      "execution_count": 1,
      "metadata": {
        "colab": {
          "base_uri": "https://localhost:8080/"
        },
        "id": "UCC4xrLiHgZq",
        "outputId": "5e878496-da88-4d0f-be04-ce6f3b553085"
      },
      "outputs": [
        {
          "output_type": "stream",
          "name": "stdout",
          "text": [
            "Chester T. Suyu\n",
            "20 years old\n",
            "CPE 0332.1-1\n"
          ]
        }
      ],
      "source": [
        "#Create a Python program that displays your Fullname, Age, and Course and Section\n",
        "\n",
        "fullName = str(\"Chester T. Suyu\\n\")\n",
        "age = str(\"20 years old\\n\")\n",
        "courseSection = str(\"CPE 0332.1-1\")\n",
        "\n",
        "print(fullName + age + courseSection)"
      ]
    }
  ]
}